{
 "cells": [
  {
   "cell_type": "markdown",
   "metadata": {},
   "source": [
    "# Graph Neural Networks\n",
    "This is like my playground on Graph Neural Networks (GNN)\n",
    "\n",
    "# Why GNNs?\n",
    "Because these networks contains the relationship between the members of it. Especially spatial link!\n",
    "\n",
    "# What we can do with Graph learning?!\n",
    "GNN models contain vertices and edges. for example in a social network, people are vertices and their friendship leads to a edge between two nodes. Three main things we can do with graphs:\n",
    "a)Node Classification\n",
    "b)Link Prediction\n",
    "c)Graphs Classification\n",
    "\n",
    "For example in first application,we classify the people in our network for example to distinguish real and fake users. in this application, some nodes doesnt have label but in classification we use their information too! this is an advantage of these networks and it leads to cluster the learning of GNN under the Semi-Supervised Learning!\n",
    "\n",
    "## Which libraries I'll use?!\n",
    "NetworkX is a great library in this field beside DGL and Pytorch geometric."
   ]
  },
  {
   "cell_type": "code",
   "execution_count": 27,
   "metadata": {},
   "outputs": [
    {
     "data": {
      "text/plain": [
       "EdgeView([(1, 2), (2, 3), (3, 4)])"
      ]
     },
     "execution_count": 27,
     "metadata": {},
     "output_type": "execute_result"
    }
   ],
   "source": [
    "import networkx as nx\n",
    "\n",
    "#create graph!\n",
    "graph = nx.Graph()\n",
    "\n",
    "#add a node!\n",
    "graph.add_node(1)\n",
    "#add nodes!\n",
    "graph.add_nodes_from([2, 3, 4, 5, 6])\n",
    "\n",
    "#add an edge\n",
    "graph. add_edge(1, 2)\n",
    "\n",
    "#add edges\n",
    "graph.add_edges_from([(2,3),(3, 4)])\n",
    "\n",
    "#check nodes and edges\n",
    "graph.nodes()\n",
    "graph.edges()\n"
   ]
  },
  {
   "cell_type": "markdown",
   "metadata": {},
   "source": [
    "# Weighted edges\n",
    "I talked about link prediction! in most of the problems we use weighted edges!"
   ]
  },
  {
   "cell_type": "code",
   "execution_count": 28,
   "metadata": {},
   "outputs": [
    {
     "data": {
      "text/plain": [
       "EdgeDataView([(1, 2, {}), (2, 3, {}), (3, 4, {}), (4, 5, {'weight': 4.5}), (5, 6, {'weight': 2.5})])"
      ]
     },
     "execution_count": 28,
     "metadata": {},
     "output_type": "execute_result"
    }
   ],
   "source": [
    "graph.add_weighted_edges_from([(4, 5, 4.5), (5, 6, 2.5)])\n",
    "\n",
    "#to see the weights\n",
    "graph.edges(data = True)\n"
   ]
  },
  {
   "cell_type": "code",
   "execution_count": 29,
   "metadata": {},
   "outputs": [
    {
     "data": {
      "text/plain": [
       "EdgeDataView([(1, 2, {}), (2, 3, {}), (3, 4, {}), (4, 5, {'weight': 4.5}), (5, 6, {'weight': 2.5}), (7, 8, {'weight': 5})])"
      ]
     },
     "execution_count": 29,
     "metadata": {},
     "output_type": "execute_result"
    }
   ],
   "source": [
    "# You dont need to add all the number of nodes in nfirst stages\n",
    "# now i'm adding node 7 and 8 with weighted link!\n",
    "graph.add_weighted_edges_from([(7, 8, 5)])\n",
    "\n",
    "graph.edges(data = True)"
   ]
  },
  {
   "cell_type": "markdown",
   "metadata": {},
   "source": [
    "This creates segmented graph which link 7-8 isn't connected to other part of the graph! \n",
    "\n",
    "### How to visualize?"
   ]
  },
  {
   "cell_type": "code",
   "execution_count": 69,
   "metadata": {},
   "outputs": [
    {
     "name": "stdout",
     "output_type": "stream",
     "text": [
      "Name: \n",
      "Type: Graph\n",
      "Number of nodes: 8\n",
      "Number of edges: 10\n",
      "Average degree:   2.5000\n"
     ]
    },
    {
     "data": {
      "image/png": "[encoded data removed]",
      "text/plain": [
       "<Figure size 432x288 with 1 Axes>"
      ]
     },
     "metadata": {},
     "output_type": "display_data"
    }
   ],
   "source": [
    "nx.draw_networkx(graph)\n",
    "print(nx.info(graph))"
   ]
  },
  {
   "cell_type": "markdown",
   "metadata": {},
   "source": [
    "### We can determine the illustration of graph!\n",
    "\n",
    "nx.circular_layout(graph)\n",
    "\n",
    "nx.random_layout(graph)\n",
    "\n",
    "nx.shell_layout(graph)\n",
    "\n",
    "nx.spring_layout(graph)\n",
    "\n",
    "nx.spectral_layout(graph)\n",
    "\n"
   ]
  },
  {
   "cell_type": "code",
   "execution_count": 31,
   "metadata": {},
   "outputs": [
    {
     "data": {
      "text/plain": [
       "{1: Text(1.0, 1.837842732172515e-08, '1'),\n",
       " 2: Text(0.7071067746131362, 0.7071067741170892, '2'),\n",
       " 3: Text(-2.4836913168077226e-08, 0.999999999503953, '3'),\n",
       " 4: Text(-0.7071067368641876, 0.7071067741170892, '4'),\n",
       " 5: Text(-0.9999999622510514, -6.904434760169175e-08, '5'),\n",
       " 6: Text(-0.7071067964688312, -0.7071066777555909, '6'),\n",
       " 7: Text(3.079935470705843e-08, -0.9999999627470983, '7'),\n",
       " 8: Text(0.7071067150084925, -0.7071068565695219, '8')}"
      ]
     },
     "execution_count": 31,
     "metadata": {},
     "output_type": "execute_result"
    },
    {
     "data": {
      "image/png": "[encoded data removed]",
      "text/plain": [
       "<Figure size 432x288 with 1 Axes>"
      ]
     },
     "metadata": {},
     "output_type": "display_data"
    }
   ],
   "source": [
    "pos = nx.circular_layout(graph) \n",
    "#draw nodes\n",
    "nx.draw_networkx_nodes(graph, pos, node_size=500)\n",
    "\n",
    "#draw edges\n",
    "nx.draw_networkx_edges(graph, pos,width=6, alpha=0.5)\n",
    "\n",
    "#labels: draw nodes name and labels\n",
    "labels = nx.get_edge_attributes(graph,'weight')\n",
    "nx.draw_networkx_labels(graph, pos,edge_labels=labels)"
   ]
  },
  {
   "cell_type": "markdown",
   "metadata": {},
   "source": [
    "# Adjancy matrice\n",
    "Key information of each graph lies in this matrix. It contains relationship information of nodes.\n",
    "This matrix can provide weights too!"
   ]
  },
  {
   "cell_type": "code",
   "execution_count": 32,
   "metadata": {},
   "outputs": [
    {
     "name": "stdout",
     "output_type": "stream",
     "text": [
      "[[0.  1.  0.  0.  0.  0.  0.  0. ]\n",
      " [1.  0.  1.  0.  0.  0.  0.  0. ]\n",
      " [0.  1.  0.  1.  0.  0.  0.  0. ]\n",
      " [0.  0.  1.  0.  4.5 0.  0.  0. ]\n",
      " [0.  0.  0.  4.5 0.  2.5 0.  0. ]\n",
      " [0.  0.  0.  0.  2.5 0.  0.  0. ]\n",
      " [0.  0.  0.  0.  0.  0.  0.  5. ]\n",
      " [0.  0.  0.  0.  0.  0.  5.  0. ]]\n"
     ]
    }
   ],
   "source": [
    "adjacent_m = nx.adj_matrix(graph)\n",
    "print(adjacent_m.todense())"
   ]
  },
  {
   "cell_type": "markdown",
   "metadata": {},
   "source": [
    "# Turn nx graph to other formats!\n",
    "you can use \"nx.to_numpy_matrix(graph\" to have your matrix as a numpy matrix\n",
    "\n",
    "Or use \"to_scipy_sparse_matrix\" to have adjancy matrtix as scipy sparse matrix"
   ]
  },
  {
   "cell_type": "code",
   "execution_count": 33,
   "metadata": {},
   "outputs": [
    {
     "name": "stdout",
     "output_type": "stream",
     "text": [
      "[[0.  1.  0.  0.  0.  0.  0.  0. ]\n",
      " [1.  0.  1.  0.  0.  0.  0.  0. ]\n",
      " [0.  1.  0.  1.  0.  0.  0.  0. ]\n",
      " [0.  0.  1.  0.  4.5 0.  0.  0. ]\n",
      " [0.  0.  0.  4.5 0.  2.5 0.  0. ]\n",
      " [0.  0.  0.  0.  2.5 0.  0.  0. ]\n",
      " [0.  0.  0.  0.  0.  0.  0.  5. ]\n",
      " [0.  0.  0.  0.  0.  0.  5.  0. ]]\n",
      "<class 'numpy.matrix'>\n"
     ]
    }
   ],
   "source": [
    "z=nx.to_numpy_matrix(graph)\n",
    "print(z)\n",
    "print(type(z))"
   ]
  },
  {
   "cell_type": "code",
   "execution_count": 34,
   "metadata": {},
   "outputs": [
    {
     "name": "stdout",
     "output_type": "stream",
     "text": [
      "  (0, 1)\t1.0\n",
      "  (1, 0)\t1.0\n",
      "  (1, 2)\t1.0\n",
      "  (2, 1)\t1.0\n",
      "  (2, 3)\t1.0\n",
      "  (3, 2)\t1.0\n",
      "  (3, 4)\t4.5\n",
      "  (4, 3)\t4.5\n",
      "  (4, 5)\t2.5\n",
      "  (5, 4)\t2.5\n",
      "  (6, 7)\t5.0\n",
      "  (7, 6)\t5.0\n"
     ]
    },
    {
     "data": {
      "text/plain": [
       "matrix([[0. , 1. , 0. , 0. , 0. , 0. , 0. , 0. ],\n",
       "        [1. , 0. , 1. , 0. , 0. , 0. , 0. , 0. ],\n",
       "        [0. , 1. , 0. , 1. , 0. , 0. , 0. , 0. ],\n",
       "        [0. , 0. , 1. , 0. , 4.5, 0. , 0. , 0. ],\n",
       "        [0. , 0. , 0. , 4.5, 0. , 2.5, 0. , 0. ],\n",
       "        [0. , 0. , 0. , 0. , 2.5, 0. , 0. , 0. ],\n",
       "        [0. , 0. , 0. , 0. , 0. , 0. , 0. , 5. ],\n",
       "        [0. , 0. , 0. , 0. , 0. , 0. , 5. , 0. ]])"
      ]
     },
     "execution_count": 34,
     "metadata": {},
     "output_type": "execute_result"
    }
   ],
   "source": [
    "sparse_m=nx.to_scipy_sparse_matrix(graph)\n",
    "\n",
    "print(sparse_m)\n",
    "sparse_m.todense()"
   ]
  },
  {
   "cell_type": "markdown",
   "metadata": {},
   "source": [
    "# Analyse a matrix\n",
    "We have methods like BFS or DFS!\n",
    "They are based on iterating on nodes and edges. we call it traversal algorithms!\n",
    "\n",
    "##### Depth First Search (DFS): \n",
    "DFS follows first a path form the starting to the ending node, then another path from the start to end, and so on until all nodes are visited.\n",
    "DFS uses the stack for traversal of the nodes.\n",
    "\n",
    "Following method will help us with DFS. I want to iterate from a given startpoint to end node: \"nx.dfs_edges(graph,1)\"\n",
    "\n",
    "it takes graph's name and a starting point which in this exaple I choosed 1.\n",
    "I should mention that it returns a generator.\n",
    "\n",
    "##### Breadth First Search\n",
    "proceeds level by level. \n",
    "BFS uses the queue for storing the nodes\n",
    "\n",
    "##### Dijkstra’s Algorithm\n",
    "It finds the shortest paths between nodes\n",
    "\n"
   ]
  },
  {
   "cell_type": "markdown",
   "metadata": {},
   "source": [
    "#### I add other edges to undestand BFS and DFS correctly"
   ]
  },
  {
   "cell_type": "code",
   "execution_count": 61,
   "metadata": {},
   "outputs": [],
   "source": [
    "graph.add_edges_from([(2,6),(3,5),(1,6),(6,4)])"
   ]
  },
  {
   "cell_type": "code",
   "execution_count": 62,
   "metadata": {},
   "outputs": [
    {
     "name": "stdout",
     "output_type": "stream",
     "text": [
      "[(1, 2), (2, 3), (3, 4), (4, 5), (5, 6)]\n"
     ]
    },
    {
     "data": {
      "image/png": "[encoded data removed]",
      "text/plain": [
       "<Figure size 432x288 with 1 Axes>"
      ]
     },
     "metadata": {},
     "output_type": "display_data"
    }
   ],
   "source": [
    "# first we go on DFS\n",
    "# Starting point is node 1\n",
    "\n",
    "edges = nx.dfs_edges(graph, 1)\n",
    "print(list(edges))\n",
    "\n",
    "# draw to analyse result\n",
    "nx.draw_circular(graph,with_labels=True)"
   ]
  },
  {
   "cell_type": "markdown",
   "metadata": {},
   "source": [
    "# What does the results mean?\n",
    "\n",
    "See the drawing!\n",
    "\n",
    "I started from node 1. so I dont expect my iteration contains nodes 7 and 8 ( they are seperated)\n",
    "\n",
    "DFS reported: [(1, 2), (2, 3), (3, 4), (4, 5), (5, 6)]\n",
    "first a link between 1 and to, then 2 and 3 and like that untill the last node\n",
    "\n",
    "You know how it iterated? and it cointaned all the nodes! (except 7-8 which are seperated)"
   ]
  },
  {
   "cell_type": "code",
   "execution_count": 65,
   "metadata": {},
   "outputs": [
    {
     "name": "stdout",
     "output_type": "stream",
     "text": [
      "[1, 2, 3, 4, 5, 6]\n"
     ]
    },
    {
     "data": {
      "image/png": "[encoded data removed]",
      "text/plain": [
       "<Figure size 432x288 with 1 Axes>"
      ]
     },
     "metadata": {},
     "output_type": "display_data"
    }
   ],
   "source": [
    "# another way to showing that results\n",
    "print(list(nx.dfs_tree(graph,1)))\n",
    "\n",
    "#SHOWING how we iterate till end!\n",
    "nx.draw_networkx(nx.dfs_tree(graph,1))\n"
   ]
  },
  {
   "cell_type": "code",
   "execution_count": 66,
   "metadata": {},
   "outputs": [
    {
     "name": "stdout",
     "output_type": "stream",
     "text": [
      "[(1, 2), (1, 6), (2, 3), (6, 5), (6, 4)]\n"
     ]
    },
    {
     "data": {
      "image/png": "[encoded data removed]",
      "text/plain": [
       "<Figure size 432x288 with 1 Axes>"
      ]
     },
     "metadata": {},
     "output_type": "display_data"
    }
   ],
   "source": [
    "# first we go on BFS\n",
    "# Starting point is node 1\n",
    "\n",
    "edges = nx.bfs_edges(graph, 1)\n",
    "print(list(edges))\n",
    "\n",
    "# draw to analyse result\n",
    "nx.draw_circular(graph,with_labels=True)"
   ]
  },
  {
   "cell_type": "markdown",
   "metadata": {},
   "source": [
    "# What does the results mean?\n",
    "\n",
    "See the drawing!\n",
    "\n",
    "I started from node 1. so I dont expect my iteration contains nodes 7 and 8 ( they are seperated)\n",
    "\n",
    "DFS reported: [(1, 2), (1, 6), (2, 3), (6, 5), (6, 4)]\n",
    "\n",
    "I started with node 1. what's the children of 1? 6 and 2. so I write (1,2) and (1,6)\n",
    "\n",
    "Then I start with this two nodes!. children of 2 and then children of 6.\n",
    "\n",
    "You know how it iterated? and it cointaned all the nodes! (except 7-8 which are seperated)"
   ]
  },
  {
   "cell_type": "code",
   "execution_count": 67,
   "metadata": {},
   "outputs": [
    {
     "name": "stdout",
     "output_type": "stream",
     "text": [
      "[1, 2, 6, 3, 5, 4]\n"
     ]
    },
    {
     "data": {
      "image/png": "[encoded data removed]",
      "text/plain": [
       "<Figure size 432x288 with 1 Axes>"
      ]
     },
     "metadata": {},
     "output_type": "display_data"
    }
   ],
   "source": [
    "# another way to showing that results\n",
    "print(list(nx.bfs_tree(graph,1)))\n",
    "\n",
    "#SHOWING how we iterate till end!\n",
    "nx.draw_networkx(nx.bfs_tree(graph,1))\n"
   ]
  },
  {
   "cell_type": "code",
   "execution_count": 81,
   "metadata": {},
   "outputs": [
    {
     "name": "stdout",
     "output_type": "stream",
     "text": [
      "the shortest path between 1 and 6 is [1, 6]\n",
      "the shortest path between 1 and 3 is [1, 2, 3]\n",
      "the shortest path between 2 and 5 is [2, 3, 5]\n"
     ]
    }
   ],
   "source": [
    "#dijkstra will tell you the shortest path\n",
    "\n",
    "l1=nx.dijkstra_path(graph, 1, 6)\n",
    "print(\"the shortest path between 1 and 6 is\",l1)\n",
    "\n",
    "l2=nx.dijkstra_path(graph, 1, 3)\n",
    "print(\"the shortest path between 1 and 3 is\",l2)\n",
    "\n",
    "l3=nx.dijkstra_path(graph, 2, 5)\n",
    "print(\"the shortest path between 2 and 5 is\",l3)\n",
    "\n"
   ]
  },
  {
   "cell_type": "markdown",
   "metadata": {},
   "source": [
    "# How to sample Nodes!?\n",
    "we may need to use node sampling methods to reduce the dimention of our dataset.\n",
    "\n",
    "### chain sampling\n"
   ]
  },
  {
   "cell_type": "markdown",
   "metadata": {},
   "source": [
    "# References\n",
    "\n",
    "https://cs.mcgill.ca/~wlh/comp766/\n",
    "\n",
    "https://networkx.github.io/documentation\n",
    "\n",
    "https://techdifferences.com/difference-between-bfs-and-dfs.html"
   ]
  }
 ],
 "metadata": {
  "kernelspec": {
   "display_name": "Python 3",
   "language": "python",
   "name": "python3"
  },
  "language_info": {
   "codemirror_mode": {
    "name": "ipython",
    "version": 3
   },
   "file_extension": ".py",
   "mimetype": "text/x-python",
   "name": "python",
   "nbconvert_exporter": "python",
   "pygments_lexer": "ipython3",
   "version": "3.7.4"
  }
 },
 "nbformat": 4,
 "nbformat_minor": 4
}
